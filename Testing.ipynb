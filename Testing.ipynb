{
 "cells": [
  {
   "cell_type": "code",
   "execution_count": 2,
   "id": "initial_id",
   "metadata": {
    "collapsed": true,
    "ExecuteTime": {
     "end_time": "2023-12-08T15:44:38.270630300Z",
     "start_time": "2023-12-08T15:44:38.258824Z"
    }
   },
   "outputs": [],
   "source": [
    "from tensorflow.keras.models import load_model\n",
    "from tensorflow.keras.preprocessing import image\n",
    "import numpy as np\n",
    "from keras import backend as K\n",
    "import gc\n",
    "from numba import cuda"
   ]
  },
  {
   "cell_type": "code",
   "execution_count": 3,
   "outputs": [],
   "source": [
    "def load_and_predict_multiclass(model_path, image_path, target_size=(224, 224), classes = None):\n",
    "    # 加载保存的模型\n",
    "    model = load_model(model_path)\n",
    "\n",
    "    # 加载并预处理图片\n",
    "    img = image.load_img(image_path, target_size=target_size)  # 使用与训练时相同的图片尺寸\n",
    "    img_array = image.img_to_array(img)\n",
    "    img_array = img_array / 255.0\n",
    "    img_array = np.expand_dims(img_array, axis=0)\n",
    "\n",
    "    # 预测图片\n",
    "    predictions = model.predict(img_array)\n",
    "\n",
    "    # 输出预测类别\n",
    "    # 这里假设模型输出的是多分类问题的概率\n",
    "    # 使用 softmax 激活函数\n",
    "    predicted_class_index = np.argmax(predictions[0])\n",
    "    predicted_class_probability = predictions[0][predicted_class_index]\n",
    "\n",
    "    # 清理资源\n",
    "    K.clear_session()\n",
    "    gc.collect()\n",
    "    del model\n",
    "\n",
    "    # 返回类别和概率\n",
    "    if classes and len(classes) > predicted_class_index:\n",
    "        return classes[predicted_class_index], float(predicted_class_probability)\n",
    "    else:\n",
    "        return predicted_class_index, float(predicted_class_probability)"
   ],
   "metadata": {
    "collapsed": false,
    "ExecuteTime": {
     "end_time": "2023-12-08T15:44:58.049026Z",
     "start_time": "2023-12-08T15:44:58.039908900Z"
    }
   },
   "id": "780b859887005c04"
  },
  {
   "cell_type": "code",
   "execution_count": 18,
   "outputs": [
    {
     "name": "stdout",
     "output_type": "stream",
     "text": [
      "This image is 0.9997203946113586 a septoria.\n"
     ]
    }
   ],
   "source": [
    "# 使用示例\n",
    "# model_name = \"RGB_augmented_200_224_VGG_GOOGLE_NOCustomLoss_NOAccuracy.h5\"\n",
    "model_name = \"RGB_augmented_300_224_VGG_GOOGLE_NOCustomLoss_NOAccuracy.h5\"\n",
    "# model_name = \"RGB_augmented_250_224_VGG_GOOGLE_NOCustomLoss_NOAccuracy.h5\"\n",
    "\n",
    "model_path = fr'D:\\Download\\MV_Coursework\\Coursework\\Code\\model\\{model_name}'  # 替换为您的模型路径\n",
    "image_path = r'D:\\Download\\MV_Coursework\\Coursework\\Code\\augmented_image\\img_4.png'  # 替换为您的图片路径\n",
    "classes = ['Healthy', 'septoria','stripe_rust']\n",
    "class_prediction, probability = load_and_predict_multiclass(model_path, image_path, target_size=(224, 224), classes=classes)\n",
    "print(f\"This image is {probability} a {class_prediction}.\")"
   ],
   "metadata": {
    "collapsed": false,
    "ExecuteTime": {
     "end_time": "2023-12-08T15:54:49.779332700Z",
     "start_time": "2023-12-08T15:54:47.740416600Z"
    }
   },
   "id": "ef9fd7cbeec5df5d"
  }
 ],
 "metadata": {
  "kernelspec": {
   "name": "tensorflow",
   "language": "python",
   "display_name": "TensorflowPy3.9.16"
  },
  "language_info": {
   "codemirror_mode": {
    "name": "ipython",
    "version": 2
   },
   "file_extension": ".py",
   "mimetype": "text/x-python",
   "name": "python",
   "nbconvert_exporter": "python",
   "pygments_lexer": "ipython2",
   "version": "2.7.6"
  }
 },
 "nbformat": 4,
 "nbformat_minor": 5
}
