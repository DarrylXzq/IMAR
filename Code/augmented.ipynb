{
 "cells": [
  {
   "cell_type": "code",
   "execution_count": 1,
   "id": "initial_id",
   "metadata": {
    "collapsed": true,
    "ExecuteTime": {
     "end_time": "2024-01-31T07:54:33.640847100Z",
     "start_time": "2024-01-31T07:54:31.507287Z"
    }
   },
   "outputs": [],
   "source": [
    "import cv2\n",
    "import os\n",
    "import numpy as np\n",
    "import shutil\n",
    "from tensorflow.keras.preprocessing.image import ImageDataGenerator, img_to_array"
   ]
  },
  {
   "cell_type": "code",
   "execution_count": 2,
   "outputs": [],
   "source": [
    "original = [\n",
    "    r'D:\\Download\\MV_Coursework\\Coursework\\Code\\dataset_split\\original\\test',\n",
    "    r'D:\\Download\\MV_Coursework\\Coursework\\Code\\dataset_split\\original\\train',\n",
    "    r'D:\\Download\\MV_Coursework\\Coursework\\Code\\dataset_split\\original\\validation'\n",
    "]\n",
    "\n",
    "original_6_2_2 = [\n",
    "    r'D:\\Download\\MV_Coursework\\Coursework\\Code\\dataset_split\\original_6_2_2\\test',\n",
    "    r'D:\\Download\\MV_Coursework\\Coursework\\Code\\dataset_split\\original_6_2_2\\train',\n",
    "    r'D:\\Download\\MV_Coursework\\Coursework\\Code\\dataset_split\\original_6_2_2\\validation'\n",
    "]\n",
    "\n",
    "original_8_1_1 = [\n",
    "    r'D:\\Download\\MV_Coursework\\Coursework\\Code\\dataset_split\\original_8_1_1\\test',\n",
    "    r'D:\\Download\\MV_Coursework\\Coursework\\Code\\dataset_split\\original_8_1_1\\train',\n",
    "    r'D:\\Download\\MV_Coursework\\Coursework\\Code\\dataset_split\\original_8_1_1\\validation'\n",
    "]\n",
    "\n",
    "RGB_augmented_200_224 = [\n",
    "    r'D:\\Download\\MV_Coursework\\Coursework\\Code\\augmented_image\\RGB_augmented_200_224\\test',\n",
    "    r'D:\\Download\\MV_Coursework\\Coursework\\Code\\augmented_image\\RGB_augmented_200_224\\train',\n",
    "    r'D:\\Download\\MV_Coursework\\Coursework\\Code\\augmented_image\\RGB_augmented_200_224\\validation'\n",
    "]\n",
    "\n",
    "RGB_augmented_250_224 = [\n",
    "    r'D:\\Download\\MV_Coursework\\Coursework\\Code\\augmented_image\\RGB_augmented_250_224\\test',\n",
    "    r'D:\\Download\\MV_Coursework\\Coursework\\Code\\augmented_image\\RGB_augmented_250_224\\train',\n",
    "    r'D:\\Download\\MV_Coursework\\Coursework\\Code\\augmented_image\\RGB_augmented_250_224\\validation'\n",
    "\n",
    "]\n",
    "\n",
    "RGB_augmented_300_224 = [\n",
    "    r'D:\\Download\\MV_Coursework\\Coursework\\Code\\augmented_image\\RGB_augmented_300_224\\test',\n",
    "    r'D:\\Download\\MV_Coursework\\Coursework\\Code\\augmented_image\\RGB_augmented_300_224\\train',\n",
    "    r'D:\\Download\\MV_Coursework\\Coursework\\Code\\augmented_image\\RGB_augmented_300_224\\validation'\n",
    "]\n",
    "\n",
    "Mixed_augmented_300_224 = [\n",
    "    r'D:\\Download\\MV_Coursework\\Coursework\\Code\\augmented_image\\Mixed_augmented_300_224\\test',\n",
    "    r'D:\\Download\\MV_Coursework\\Coursework\\Code\\augmented_image\\Mixed_augmented_300_224\\train',\n",
    "    r'D:\\Download\\MV_Coursework\\Coursework\\Code\\augmented_image\\Mixed_augmented_300_224\\validation'\n",
    "]\n",
    "Mixed_augmented_200_224 = [\n",
    "    r'D:\\Download\\MV_Coursework\\Coursework\\Code\\augmented_image\\Mixed_augmented_200_224\\test',\n",
    "    r'D:\\Download\\MV_Coursework\\Coursework\\Code\\augmented_image\\Mixed_augmented_200_224\\train',\n",
    "    r'D:\\Download\\MV_Coursework\\Coursework\\Code\\augmented_image\\Mixed_augmented_200_224\\validation'\n",
    "]"
   ],
   "metadata": {
    "collapsed": false,
    "ExecuteTime": {
     "end_time": "2024-01-31T07:54:39.629034100Z",
     "start_time": "2024-01-31T07:54:39.619034500Z"
    }
   },
   "id": "6332194be5672484"
  },
  {
   "cell_type": "code",
   "execution_count": 3,
   "outputs": [
    {
     "name": "stdout",
     "output_type": "stream",
     "text": [
      "Dataset distribution complete.\n"
     ]
    }
   ],
   "source": [
    "source_dirs = {\n",
    "    'Healthy': r'D:\\Download\\MV_Coursework\\Coursework\\Code\\wheat_leaf\\Healthy',\n",
    "    'Septoria': r'D:\\Download\\MV_Coursework\\Coursework\\Code\\wheat_leaf\\septoria',\n",
    "    'Stripe_Rust': r'D:\\Download\\MV_Coursework\\Coursework\\Code\\wheat_leaf\\stripe_rust'\n",
    "}\n",
    "dest_dir = r'D:\\Download\\MV_Coursework\\Coursework\\Code\\dataset_split\\original_6_2_2'\n",
    "\n",
    "if os.path.exists(dest_dir):\n",
    "    shutil.rmtree(dest_dir)\n",
    "\n",
    "train_ratio = 0.6\n",
    "validation_ratio = 0.2\n",
    "test_ratio = 0.2\n",
    "\n",
    "for set_type in ['train', 'validation', 'test']:\n",
    "    for class_name in source_dirs:\n",
    "        os.makedirs(os.path.join(dest_dir, set_type, class_name), exist_ok=True)\n",
    "\n",
    "for class_name, class_path in source_dirs.items():\n",
    "    images = os.listdir(class_path)\n",
    "    np.random.shuffle(images) \n",
    "\n",
    "    train_split = int(len(images) * train_ratio)\n",
    "    validation_split = int(len(images) * (train_ratio + validation_ratio))\n",
    "\n",
    "    for i, img in enumerate(images):\n",
    "        if i < train_split:\n",
    "            set_type = 'train'\n",
    "        elif i < validation_split:\n",
    "            set_type = 'validation'\n",
    "        else:\n",
    "            set_type = 'test'\n",
    "\n",
    "        source_path = os.path.join(class_path, img)\n",
    "        dest_path = os.path.join(dest_dir, set_type, class_name, img)\n",
    "        shutil.copy(source_path, dest_path)\n",
    "\n",
    "print(\"Dataset distribution complete.\")"
   ],
   "metadata": {
    "collapsed": false,
    "ExecuteTime": {
     "end_time": "2024-01-30T07:09:48.384670Z",
     "start_time": "2024-01-30T07:09:45.617735100Z"
    }
   },
   "id": "e6d9e3605d5cdeba"
  },
  {
   "cell_type": "code",
   "execution_count": 3,
   "outputs": [],
   "source": [
    "datagen = ImageDataGenerator(\n",
    "    rotation_range=20,\n",
    "    width_shift_range=0.1,\n",
    "    height_shift_range=0.1,\n",
    "    shear_range=0.2,\n",
    "    zoom_range=0.2,\n",
    "    horizontal_flip=True,\n",
    "    fill_mode='nearest'\n",
    ")\n",
    "def resize_images_in_directory(directory, target_size):\n",
    "    for root, dirs, files in os.walk(directory):\n",
    "        for file in files:\n",
    "            if file.lower().endswith('.jpg'):\n",
    "                file_path = os.path.join(root, file)\n",
    "                image = cv2.imread(file_path)\n",
    "                if image is not None:\n",
    "                    resized_image = cv2.resize(image, target_size)\n",
    "                    cv2.imwrite(file_path, resized_image)\n",
    "                else:\n",
    "                    print(f\"Failed to load image: {file_path}\")\n",
    "    print('Finished resizing images')\n",
    "\n",
    "def clear_and_create_directory(directory):\n",
    "    if os.path.exists(directory):\n",
    "        shutil.rmtree(directory)\n",
    "    os.makedirs(directory)\n",
    "\n",
    "enhancement_method = 0  \n",
    "\n",
    "def mix_augment(image_path):\n",
    "    global enhancement_method\n",
    "    image = cv2.imread(image_path)\n",
    "    \n",
    "    if enhancement_method > 3:\n",
    "        enhancement_method = 0  \n",
    "        \n",
    "    if enhancement_method == 0:\n",
    "        clahe = cv2.createCLAHE(clipLimit=9, tileGridSize=(16, 16))\n",
    "        clahe_image = clahe.apply(cv2.cvtColor(image, cv2.COLOR_RGB2GRAY))\n",
    "        augmented_image = cv2.cvtColor(clahe_image, cv2.COLOR_GRAY2RGB)\n",
    "    elif enhancement_method == 1:\n",
    "        bilateral = cv2.bilateralFilter(image, 13, 30, 30)\n",
    "        augmented_image = bilateral\n",
    "    elif enhancement_method == 2:\n",
    "        equalized_image = cv2.equalizeHist(cv2.cvtColor(image, cv2.COLOR_RGB2GRAY))\n",
    "        augmented_image = cv2.cvtColor(equalized_image, cv2.COLOR_GRAY2RGB)\n",
    "    # elif enhancement_method == 3:\n",
    "    #     gray_image = cv2.cvtColor(image, cv2.COLOR_RGB2GRAY)\n",
    "    #     augmented_image = cv2.merge([gray_image, gray_image, gray_image])\n",
    "    elif enhancement_method == 3:\n",
    "        image = img_to_array(image)  \n",
    "        image = np.expand_dims(image, axis=0) \n",
    "        it = datagen.flow(image, batch_size=1)\n",
    "        batch = next(it)\n",
    "        augmented_image = batch[0].astype('uint8')\n",
    "    else:\n",
    "        raise Exception('Invalid enhancement method')\n",
    "        \n",
    "    enhancement_method += 1\n",
    "    return augmented_image\n",
    "\n",
    "def rgb_augment(image_path):\n",
    "    image = cv2.imread(image_path)\n",
    "    image = img_to_array(image)  \n",
    "    image = np.expand_dims(image, axis=0) \n",
    "    it = datagen.flow(image, batch_size=1)\n",
    "    batch = next(it)\n",
    "    augmented_image = batch[0].astype('uint8')\n",
    "    return augmented_image\n",
    "\n",
    "\n",
    "\n",
    "def augment_images(category_directory, output_directory, target_count, augmentation_method):\n",
    "    clear_and_create_directory(output_directory)\n",
    "\n",
    "    for category in os.listdir(category_directory):\n",
    "        category_path = os.path.join(category_directory, category)\n",
    "        category_output_path = os.path.join(output_directory, category)\n",
    "        clear_and_create_directory(category_output_path)\n",
    "\n",
    "        for filename in os.listdir(category_path):\n",
    "            if os.path.isfile(os.path.join(category_path, filename)):\n",
    "                shutil.copy(os.path.join(category_path, filename), os.path.join(category_output_path, filename))\n",
    "\n",
    "        last_dir_name = os.path.basename(os.path.normpath(category_directory))\n",
    "        \n",
    "        current_count = len(\n",
    "            [name for name in os.listdir(category_path) if os.path.isfile(os.path.join(category_path, name))])\n",
    "\n",
    "        if current_count >= target_count:\n",
    "            continue  \n",
    "        \n",
    "        augment_count = int(target_count) - current_count\n",
    "        print(f'Dataset: {last_dir_name}, Category: {category}, Current Count: {current_count}, Augment Count: {augment_count}')\n",
    "\n",
    "        augmented = 1 \n",
    "        while augment_count > 0: \n",
    "            for filename in os.listdir(category_path):\n",
    "                if augment_count <= 0:\n",
    "                    break  \n",
    "    \n",
    "                augmented_image = None\n",
    "                image_path = os.path.join(category_path, filename)\n",
    "                if augmentation_method == 'mix':\n",
    "                    augmented_image = mix_augment(image_path)  \n",
    "                elif augmentation_method == 'rgb':\n",
    "                    augmented_image = rgb_augment(image_path)  \n",
    "                else:\n",
    "                    raise Exception('Invalid enhancement method')\n",
    "\n",
    "                base_filename, file_extension = os.path.splitext(filename)\n",
    "                new_filename = f'aug_{augmented}{file_extension}'\n",
    "\n",
    "                cv2.imwrite(os.path.join(category_output_path, new_filename), augmented_image)\n",
    "\n",
    "                augmented += 1\n",
    "                augment_count -= 1\n"
   ],
   "metadata": {
    "collapsed": false,
    "ExecuteTime": {
     "end_time": "2024-01-31T07:54:43.693961300Z",
     "start_time": "2024-01-31T07:54:43.673954600Z"
    }
   },
   "id": "ddd29d29e8c1ef1d"
  },
  {
   "cell_type": "code",
   "execution_count": 5,
   "outputs": [
    {
     "name": "stdout",
     "output_type": "stream",
     "text": [
      "Finished resizing images\n"
     ]
    }
   ],
   "source": [
    "resize_images_in_directory(r'D:\\Download\\MV_Coursework\\Coursework\\Code\\dataset_split\\original_6_2_2', (224, 224))"
   ],
   "metadata": {
    "collapsed": false,
    "ExecuteTime": {
     "end_time": "2024-01-30T07:25:30.463035Z",
     "start_time": "2024-01-30T07:24:41.761000400Z"
    }
   },
   "id": "85732262ceeb2809"
  },
  {
   "cell_type": "code",
   "execution_count": 4,
   "outputs": [
    {
     "name": "stdout",
     "output_type": "stream",
     "text": [
      "Dataset: train, Category: Healthy, Current Count: 71, Augment Count: 229\n",
      "Dataset: train, Category: Septoria, Current Count: 67, Augment Count: 233\n",
      "Dataset: train, Category: Stripe_Rust, Current Count: 145, Augment Count: 155\n"
     ]
    }
   ],
   "source": [
    "# for input_dir, output_dir in zip(original_shuffle, RGB_augmented_300_224):\n",
    "#     augment_images(input_dir, output_dir, target_sample_count)\n",
    "augment_images(original[1], Mixed_augmented_300_224[1], 300, 'mix')"
   ],
   "metadata": {
    "collapsed": false,
    "ExecuteTime": {
     "end_time": "2024-01-31T07:55:04.508778200Z",
     "start_time": "2024-01-31T07:55:00.441963300Z"
    }
   },
   "id": "4d4d429295ac3624"
  },
  {
   "cell_type": "code",
   "execution_count": null,
   "outputs": [],
   "source": [],
   "metadata": {
    "collapsed": false
   },
   "id": "eb94702a3459efaf"
  }
 ],
 "metadata": {
  "kernelspec": {
   "name": "tensorflow",
   "language": "python",
   "display_name": "TensorflowPy3.9.16"
  },
  "language_info": {
   "codemirror_mode": {
    "name": "ipython",
    "version": 2
   },
   "file_extension": ".py",
   "mimetype": "text/x-python",
   "name": "python",
   "nbconvert_exporter": "python",
   "pygments_lexer": "ipython2",
   "version": "2.7.6"
  }
 },
 "nbformat": 4,
 "nbformat_minor": 5
}
